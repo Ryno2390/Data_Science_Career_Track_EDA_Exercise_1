{
 "cells": [
  {
   "cell_type": "markdown",
   "metadata": {},
   "source": [
    "# What is the True Normal Human Body Temperature? \n",
    "\n",
    "#### Background\n",
    "\n",
    "The mean normal body temperature was held to be 37$^{\\circ}$C or 98.6$^{\\circ}$F for more than 120 years since it was first conceptualized and reported by Carl Wunderlich in a famous 1868 book. But, is this value statistically correct?"
   ]
  },
  {
   "cell_type": "markdown",
   "metadata": {},
   "source": [
    "<h3>Exercises</h3>\n",
    "\n",
    "<p>In this exercise, you will analyze a dataset of human body temperatures and employ the concepts of hypothesis testing, confidence intervals, and statistical significance.</p>\n",
    "\n",
    "<p>Answer the following questions <b>in this notebook below and submit to your Github account</b>.</p> \n",
    "\n",
    "<ol>\n",
    "<li>  Is the distribution of body temperatures normal? \n",
    "    <ul>\n",
    "    <li> Although this is not a requirement for the Central Limit Theorem to hold (read the introduction on Wikipedia's page about the CLT carefully: https://en.wikipedia.org/wiki/Central_limit_theorem), it gives us some peace of mind that the population may also be normally distributed if we assume that this sample is representative of the population.\n",
    "    <li> Think about the way you're going to check for the normality of the distribution. Graphical methods are usually used first, but there are also other ways: https://en.wikipedia.org/wiki/Normality_test\n",
    "    </ul>\n",
    "<li>  Is the sample size large? Are the observations independent?\n",
    "    <ul>\n",
    "    <li> Remember that this is a condition for the Central Limit Theorem, and hence the statistical tests we are using, to apply.\n",
    "    </ul>\n",
    "<li>  Is the true population mean really 98.6 degrees F?\n",
    "    <ul>\n",
    "    <li> First, try a bootstrap hypothesis test.\n",
    "    <li> Now, let's try frequentist statistical testing. Would you use a one-sample or two-sample test? Why?\n",
    "    <li> In this situation, is it appropriate to use the $t$ or $z$ statistic? \n",
    "    <li> Now try using the other test. How is the result be different? Why?\n",
    "    </ul>\n",
    "<li>  Draw a small sample of size 10 from the data and repeat both frequentist tests. \n",
    "    <ul>\n",
    "    <li> Which one is the correct one to use? \n",
    "    <li> What do you notice? What does this tell you about the difference in application of the $t$ and $z$ statistic?\n",
    "    </ul>\n",
    "<li>  At what temperature should we consider someone's temperature to be \"abnormal\"?\n",
    "    <ul>\n",
    "    <li> As in the previous example, try calculating everything using the boostrap approach, as well as the frequentist approach.\n",
    "    <li> Start by computing the margin of error and confidence interval. When calculating the confidence interval, keep in mind that you should use the appropriate formula for one draw, and not N draws.\n",
    "    </ul>\n",
    "<li>  Is there a significant difference between males and females in normal temperature?\n",
    "    <ul>\n",
    "    <li> What testing approach did you use and why?\n",
    "    <li> Write a story with your conclusion in the context of the original problem.\n",
    "    </ul>\n",
    "</ol>\n",
    "\n",
    "You can include written notes in notebook cells using Markdown: \n",
    "   - In the control panel at the top, choose Cell > Cell Type > Markdown\n",
    "   - Markdown syntax: http://nestacms.com/docs/creating-content/markdown-cheat-sheet\n",
    "\n",
    "#### Resources\n",
    "\n",
    "+ Information and data sources: http://www.amstat.org/publications/jse/datasets/normtemp.txt, http://www.amstat.org/publications/jse/jse_data_archive.htm\n",
    "+ Markdown syntax: http://nestacms.com/docs/creating-content/markdown-cheat-sheet\n",
    "\n",
    "****"
   ]
  },
  {
   "cell_type": "markdown",
   "metadata": {},
   "source": [
    "**(1) Is the distribution of body temperatures normal?**"
   ]
  },
  {
   "cell_type": "code",
   "execution_count": 280,
   "metadata": {},
   "outputs": [],
   "source": [
    "import pandas as pd\n",
    "import matplotlib.pyplot as plt\n",
    "import numpy as np\n",
    "\n",
    "df = pd.read_csv('data/human_body_temperature.csv')"
   ]
  },
  {
   "cell_type": "code",
   "execution_count": 281,
   "metadata": {},
   "outputs": [
    {
     "data": {
      "text/html": [
       "<div>\n",
       "<style scoped>\n",
       "    .dataframe tbody tr th:only-of-type {\n",
       "        vertical-align: middle;\n",
       "    }\n",
       "\n",
       "    .dataframe tbody tr th {\n",
       "        vertical-align: top;\n",
       "    }\n",
       "\n",
       "    .dataframe thead th {\n",
       "        text-align: right;\n",
       "    }\n",
       "</style>\n",
       "<table border=\"1\" class=\"dataframe\">\n",
       "  <thead>\n",
       "    <tr style=\"text-align: right;\">\n",
       "      <th></th>\n",
       "      <th>temperature</th>\n",
       "      <th>gender</th>\n",
       "      <th>heart_rate</th>\n",
       "    </tr>\n",
       "  </thead>\n",
       "  <tbody>\n",
       "    <tr>\n",
       "      <th>0</th>\n",
       "      <td>99.3</td>\n",
       "      <td>F</td>\n",
       "      <td>68.0</td>\n",
       "    </tr>\n",
       "    <tr>\n",
       "      <th>1</th>\n",
       "      <td>98.4</td>\n",
       "      <td>F</td>\n",
       "      <td>81.0</td>\n",
       "    </tr>\n",
       "    <tr>\n",
       "      <th>2</th>\n",
       "      <td>97.8</td>\n",
       "      <td>M</td>\n",
       "      <td>73.0</td>\n",
       "    </tr>\n",
       "    <tr>\n",
       "      <th>3</th>\n",
       "      <td>99.2</td>\n",
       "      <td>F</td>\n",
       "      <td>66.0</td>\n",
       "    </tr>\n",
       "    <tr>\n",
       "      <th>4</th>\n",
       "      <td>98.0</td>\n",
       "      <td>F</td>\n",
       "      <td>73.0</td>\n",
       "    </tr>\n",
       "  </tbody>\n",
       "</table>\n",
       "</div>"
      ],
      "text/plain": [
       "   temperature gender  heart_rate\n",
       "0         99.3      F        68.0\n",
       "1         98.4      F        81.0\n",
       "2         97.8      M        73.0\n",
       "3         99.2      F        66.0\n",
       "4         98.0      F        73.0"
      ]
     },
     "execution_count": 281,
     "metadata": {},
     "output_type": "execute_result"
    }
   ],
   "source": [
    "# Examine the structure of the data\n",
    "df.head()"
   ]
  },
  {
   "cell_type": "code",
   "execution_count": 282,
   "metadata": {},
   "outputs": [
    {
     "data": {
      "text/plain": [
       "0    99.3\n",
       "1    98.4\n",
       "2    97.8\n",
       "3    99.2\n",
       "4    98.0\n",
       "Name: temperature, dtype: float64"
      ]
     },
     "execution_count": 282,
     "metadata": {},
     "output_type": "execute_result"
    }
   ],
   "source": [
    "# Seperate out the temperature column from the rest of the data\n",
    "temperature = df['temperature']\n",
    "temperature.head()"
   ]
  },
  {
   "cell_type": "code",
   "execution_count": 283,
   "metadata": {},
   "outputs": [
    {
     "name": "stdout",
     "output_type": "stream",
     "text": [
      "130\n"
     ]
    }
   ],
   "source": [
    "# Compute number of data points: n_data\n",
    "n_data = len(temperature)\n",
    "print(n_data)"
   ]
  },
  {
   "cell_type": "code",
   "execution_count": 284,
   "metadata": {},
   "outputs": [
    {
     "name": "stdout",
     "output_type": "stream",
     "text": [
      "11.40175425099138\n"
     ]
    }
   ],
   "source": [
    "# Number of bins is the square root of number of data points: n_bins\n",
    "n_bins = np.sqrt(n_data)\n",
    "print(n_bins)"
   ]
  },
  {
   "cell_type": "code",
   "execution_count": 285,
   "metadata": {},
   "outputs": [],
   "source": [
    "# Convert number of bins to integer: n_bins\n",
    "n_bins = int(n_bins)"
   ]
  },
  {
   "cell_type": "code",
   "execution_count": 286,
   "metadata": {},
   "outputs": [
    {
     "data": {
      "image/png": "[encoded data removed]",
      "text/plain": [
       "<matplotlib.figure.Figure at 0x111879a20>"
      ]
     },
     "metadata": {},
     "output_type": "display_data"
    }
   ],
   "source": [
    "# Plot the histogram\n",
    "plt.hist(temperature, bins = n_bins)\n",
    "\n",
    "# Label axes\n",
    "plt.xlabel('body temperature (degrees F)')\n",
    "plt.ylabel('count')\n",
    "\n",
    "# Show histogram\n",
    "plt.show()"
   ]
  },
  {
   "cell_type": "markdown",
   "metadata": {},
   "source": [
    "After plotting a histogram of the temperature data it does appear that the distribution of body temperatures appears normal. However, comparing the histogram to a theoretical nomral PDF suffers from binning bias so it is better to compare the ECDF of the data with to the theoretical CDF of a normal distribution. "
   ]
  },
  {
   "cell_type": "code",
   "execution_count": 287,
   "metadata": {},
   "outputs": [],
   "source": [
    "# Create a function to calculate the ECDF: ecdf() \n",
    "def ecdf(data):\n",
    "    \"\"\"Compute ECDF for a one-dimensional array of measurements.\"\"\"\n",
    "    # Number of data points: n\n",
    "    n = len(data)\n",
    "\n",
    "    # x-data for the ECDF: x\n",
    "    x = np.sort(data)\n",
    "\n",
    "    # y-data for the ECDF: y\n",
    "    y = np.arange(1, n+1) / n\n",
    "\n",
    "    return x, y"
   ]
  },
  {
   "cell_type": "code",
   "execution_count": 288,
   "metadata": {},
   "outputs": [
    {
     "data": {
      "image/png": "[encoded data removed]",
      "text/plain": [
       "<matplotlib.figure.Figure at 0x1177cce10>"
      ]
     },
     "metadata": {},
     "output_type": "display_data"
    }
   ],
   "source": [
    "# Compute mean and standard deviation: mu, sigma\n",
    "mu = np.mean(temperature)\n",
    "sigma = np.std(temperature)\n",
    "\n",
    "# Sample out of a normal distribution with this mu and sigma: samples\n",
    "samples = np.random.normal(mu, sigma, 10000)\n",
    "\n",
    "# Get the CDF of the samples and of the data\n",
    "x_theor, y_theor = ecdf(samples)\n",
    "x , y = ecdf(temperature)\n",
    "\n",
    "# Plot the CDFs and show the plot\n",
    "plt.plot(x_theor, y_theor)\n",
    "plt.plot(x, y, marker='.', linestyle='none')\n",
    "plt.xlabel('body temperature (degrees F)')\n",
    "plt.ylabel('CDF')\n",
    "plt.show()"
   ]
  },
  {
   "cell_type": "markdown",
   "metadata": {},
   "source": [
    "After comparing the the ECDF of the data with to the theoretical CDF of a normal distribution we see, with much greater confidence, that the distribution is, indeed, normal.\n",
    "\n",
    "**(2) Is the sample size large? Are the observations independent?**\n",
    "\n",
    "\n",
    "\n",
    "**(3) Is the true population mean really 98.6 degrees F?**\n",
    "\n",
    "**First, try a bootstrap hypothesis test.**"
   ]
  },
  {
   "cell_type": "code",
   "execution_count": 289,
   "metadata": {},
   "outputs": [
    {
     "name": "stdout",
     "output_type": "stream",
     "text": [
      "p =  0.0\n"
     ]
    }
   ],
   "source": [
    "# Define the 1-dimensional bootstrap replicate function: bootstrap_replicate_1d\n",
    "def bootstrap_replicate_1d(data, func):\n",
    "    return func(np.random.choice(data, size=len(data)))\n",
    "\n",
    "# Define the bootstrap reps function: draw_bs_reps\n",
    "def draw_bs_reps(data, func, size=1):\n",
    "    \"\"\"Draw bootstrap replicates.\"\"\"\n",
    "\n",
    "    # Initialize array of replicates: bs_replicates\n",
    "    bs_replicates = np.empty(size)\n",
    "\n",
    "    # Generate replicates\n",
    "    for i in range(size):\n",
    "        bs_replicates[i] = bootstrap_replicate_1d(data, func)\n",
    "\n",
    "    return bs_replicates\n",
    "\n",
    "# Define the mean we want to test\n",
    "hypothetical_mean = 98.6\n",
    "\n",
    "# Make an array of translated temperatures: translated_temperature\n",
    "translated_temperature = temperature - np.mean(temperature) + hypothetical_mean\n",
    "\n",
    "# Take 10,000 bootstrap replicates of the temperature data's translated temperature values: bs_replicates\n",
    "bs_replicates = draw_bs_reps(translated_temperature, np.mean, 10000)\n",
    "\n",
    "# Compute fraction of replicates that were less than or equal to the sample mean temperatues: p\n",
    "p = np.sum(bs_replicates <= np.mean(temperature)) / len(bs_replicates)\n",
    "\n",
    "# Print the p-value\n",
    "print('p = ', p)"
   ]
  },
  {
   "cell_type": "markdown",
   "metadata": {},
   "source": [
    "No, it does not appear that the true population mean is 98.6 degrees F. We calculated the probability of getting a mean temperature less than or equal to what was observed, given the assumption the true mean is 98.6 degrees F. The probability was extremely unlikely - not one observed instance in 10,000 trials - indicating that it is extremely unlikely that the true population mean is 98.6 degrees F."
   ]
  },
  {
   "cell_type": "markdown",
   "metadata": {},
   "source": [
    "**Now, let's try frequentist statistical testing.** \n",
    "\n",
    "**Would you use a one-sample or two-sample test?** \n",
    "\n",
    "one-sample test\n",
    "\n",
    "**Why?**\n",
    "\n",
    "A one-sample test compares a sample parameter to a population parameter in order to estimate, with a certain degrees of confidence, what the true population parameter is. A two-sample test compares differences between samples to determine, with a certain degree of confidence, whether they are similar or different. \n",
    "\n",
    "In this case, we wish to compare our sample paramater (mean temperature in degrees F) with a hypothesized population parameter (that the true population mean temperature is 98.6 degrees F), which is exactly what a one-sample test is designed to do.\n",
    "\n",
    "**In this situation, is it appropriate to use the  t or  z statistic?**\n",
    "\n",
    "The t-statistic is appropriate in this case because we do not know the standard deviation of the population we are sampling from. In such cases, it is tempting to simply substitute our sample standard deviation for the population standard deviation, but in so doing we will underestimate the actual confidence interval.\n",
    "\n",
    "Under conditions like this (where the population standard deviation is unknown), statisticians instead use the t-statistic, whereby the functional difference is that utilizing a t-table instead of a z-table will give us the confidence interval that actually has the level of confidence that we want."
   ]
  },
  {
   "cell_type": "code",
   "execution_count": 290,
   "metadata": {},
   "outputs": [
    {
     "name": "stdout",
     "output_type": "stream",
     "text": [
      "0.12673601217444005\n",
      "The upper bound of our 95% confidence interval is 98.37596678140521 degrees F\n",
      "The lower bound of our 95% confidence interval is 98.12249475705634 degrees F\n"
     ]
    }
   ],
   "source": [
    "# Estimate the upper and lower bounds of a 95% confidence interval using a one-sample t-statistic\n",
    "sample_mean = np.mean(temperature)\n",
    "t_star = 1.9785\n",
    "sample_sd = np.std(temperature)\n",
    "n = len(temperature)\n",
    "\n",
    "plus = sample_mean + t_star * (sample_sd / np.sqrt(n))\n",
    "minus = sample_mean - t_star * (sample_sd / np.sqrt(n))\n",
    "\n",
    "print(t_star * (sample_sd / np.sqrt(n)))\n",
    "\n",
    "print('The upper bound of our 95% confidence interval is ' + str(plus) + ' degrees F')\n",
    "print('The lower bound of our 95% confidence interval is ' + str(minus) + ' degrees F')"
   ]
  },
  {
   "cell_type": "markdown",
   "metadata": {},
   "source": [
    "The null hypothesis of frequentist statistical test is that the true population mean is 98.6 degrees F. After performing our one sample t-statistic we estimated with 95% confidence that the true population mean is between ~98.4 degrees F and ~98.1 degrees F. Since the null hypothesis is outside of that range, we can reject, with 95% confidence, the null hypothesis that the true population mean is 98.6 degrees F.\n",
    "\n",
    "**Now try using the other test.** "
   ]
  },
  {
   "cell_type": "code",
   "execution_count": 291,
   "metadata": {},
   "outputs": [
    {
     "name": "stdout",
     "output_type": "stream",
     "text": [
      "The upper bound of our 95% confidence interval is 98.37478173403336 degrees F\n",
      "The lower bound of our 95% confidence interval is 98.12367980442819 degrees F\n"
     ]
    }
   ],
   "source": [
    "# Estimate the upper and lower bounds of a 95% confidence interval using a one-sample z-statistic\n",
    "z_star = 1.96\n",
    "\n",
    "plus = sample_mean + z_star * (sample_sd / np.sqrt(n))\n",
    "minus = sample_mean - z_star * (sample_sd / np.sqrt(n))\n",
    "\n",
    "print('The upper bound of our 95% confidence interval is ' + str(plus) + ' degrees F')\n",
    "print('The lower bound of our 95% confidence interval is ' + str(minus) + ' degrees F')"
   ]
  },
  {
   "cell_type": "markdown",
   "metadata": {},
   "source": [
    "**How is the result different? Why?**\n",
    "\n",
    "As stated, above, when we substitute the sample standard deviation for the population standard deviation we underestimate the actual confidence interval. In this case the difference isn't that pronounced, but in other situations where extreme accuracy is need, the z-statistic simply won't be as accurate as needed. \n",
    "\n",
    "**(4) Draw a small sample of size 10 from the data and repeat both frequentist tests.** "
   ]
  },
  {
   "cell_type": "code",
   "execution_count": 292,
   "metadata": {},
   "outputs": [],
   "source": [
    "sample_data = np.random.choice(temperature, 10)"
   ]
  },
  {
   "cell_type": "markdown",
   "metadata": {},
   "source": [
    "**Which one is the correct one to use?**\n",
    "\n",
    "Since we can estimate the population standard deviation we should use the z-statistic."
   ]
  },
  {
   "cell_type": "code",
   "execution_count": 293,
   "metadata": {},
   "outputs": [
    {
     "name": "stdout",
     "output_type": "stream",
     "text": [
      "The upper bound of our 95% confidence interval is 98.77268044127966 degrees F\n",
      "The lower bound of our 95% confidence interval is 97.86731955872033 degrees F\n"
     ]
    }
   ],
   "source": [
    "# Estimate the upper and lower bounds of a 95% confidence interval using a one-sample z-statistic of our new sample\n",
    "\n",
    "sample_mean = np.mean(sample_data)\n",
    "population_sd = np.std(temperature)\n",
    "n = len(sample_data)\n",
    "\n",
    "plus = sample_mean + z_star * (population_sd / np.sqrt(n))\n",
    "minus = sample_mean - z_star * (population_sd / np.sqrt(n))\n",
    "\n",
    "print('The upper bound of our 95% confidence interval is ' + str(plus) + ' degrees F')\n",
    "print('The lower bound of our 95% confidence interval is ' + str(minus) + ' degrees F')"
   ]
  },
  {
   "cell_type": "code",
   "execution_count": 294,
   "metadata": {},
   "outputs": [
    {
     "name": "stdout",
     "output_type": "stream",
     "text": [
      "The upper bound of our 95% confidence interval is 98.77695319034277 degrees F\n",
      "The lower bound of our 95% confidence interval is 97.86304680965722 degrees F\n"
     ]
    }
   ],
   "source": [
    "# Estimate the upper and lower bounds of a 95% confidence interval using a one-sample t-statistic of our new sample\n",
    "sample_sd = np.std(sample_data)\n",
    "\n",
    "plus = sample_mean + t_star * (population_sd / np.sqrt(n))\n",
    "minus = sample_mean - t_star * (population_sd / np.sqrt(n))\n",
    "\n",
    "print('The upper bound of our 95% confidence interval is ' + str(plus) + ' degrees F')\n",
    "print('The lower bound of our 95% confidence interval is ' + str(minus) + ' degrees F')"
   ]
  },
  {
   "cell_type": "markdown",
   "metadata": {},
   "source": [
    "**What do you notice?** \n",
    "\n",
    "The t-statistic overestimates the confidence interval\n",
    "\n",
    "**What does this tell you about the difference in application of the t and  z statistic?**\n",
    "\n",
    "When we know the population standard deviation we get more accurate results using the z-statistics; when we do not know the population standard deviation we get more accurate results using the t-statistic.\n",
    "\n",
    "**(5) At what temperature should we consider someone's temperature to be \"abnormal\"?**\n",
    "\n",
    "**As in the previous example, try calculating everything using the boostrap approach, as well as the frequentist approach.**\n",
    "\n",
    "**Start by computing the margin of error and confidence interval. When calculating the confidence interval, keep in mind that you should use the appropriate formula for one draw, and not N draws.**"
   ]
  },
  {
   "cell_type": "code",
   "execution_count": 295,
   "metadata": {},
   "outputs": [
    {
     "data": {
      "image/png": "[encoded data removed]",
      "text/plain": [
       "<matplotlib.figure.Figure at 0x117a0b5c0>"
      ]
     },
     "metadata": {},
     "output_type": "display_data"
    }
   ],
   "source": [
    "# Take 10,000 bootstrap replicates of the mean: bs_replicates\n",
    "bs_replicates = draw_bs_reps(temperature, np.mean, 10000)\n",
    "\n",
    "# Make a histogram of the results\n",
    "_ = plt.hist(bs_replicates, bins=50, normed=True)\n",
    "_ = plt.xlabel('mean temperature (degrees F)')\n",
    "_ = plt.ylabel('PDF')\n",
    "\n",
    "# Show the plot\n",
    "plt.show()"
   ]
  },
  {
   "cell_type": "code",
   "execution_count": 296,
   "metadata": {},
   "outputs": [
    {
     "name": "stdout",
     "output_type": "stream",
     "text": [
      "[98.12153846 98.37461538]\n"
     ]
    }
   ],
   "source": [
    "bs_confidence_interval = np.percentile(bs_replicates, [2.5, 97.5])\n",
    "print(bs_confidence_interval)"
   ]
  },
  {
   "cell_type": "code",
   "execution_count": 297,
   "metadata": {},
   "outputs": [
    {
     "name": "stdout",
     "output_type": "stream",
     "text": [
      "0.1275049809471907\n"
     ]
    }
   ],
   "source": [
    "bs_margin_of_error = t_star * np.std(bs_replicates)\n",
    "print(bs_margin_of_error)"
   ]
  },
  {
   "cell_type": "markdown",
   "metadata": {},
   "source": [
    "Using the bootstrap method we were able to determine a confidence interval and a margin of error. The boostrapped 95% confidence interval was between ~98.13 and ~98.38 degrees F, meaning that we are 95% confident that the true population mean is between ~98.13 degrees F and ~98.38 degrees F.\n",
    "\n",
    "The bootstrapped margin of error was calculated be determining the standard deviation of the bootstrapped replicates and then multiplying them by the appropriate t-statistic (which was previously determined when we answered the frequentist section of question 3. The boostrapped margin of error was determined to be ~0.13 degrees F, meaning that we are 95% confident that the true population mean is within ~0.13 degrees F of the sample mean.\n",
    "\n",
    "In terms of abnormal temperature, using the boostrapped meathod we are reasonably assured that an abnormal temperature is either less than ~98.13 degrees F or greater than ~98.38 degrees F.\n",
    "\n",
    "We have already implemented the frequentist approach in questions 3, and it was determined that the upper bound of our 95% confidence interval was ~98.38 degrees F and the lower bound of our 95% confidence interval was 98.12 degrees F, meaning that we are 95% confident that the true population mean is between ~98.12 degrees F and ~98.36 degrees F.\n",
    "\n",
    "Additionally, we were able to determine the margin of error, which was simply our t_star value multiplied by (sample_sd / np.sqrt(n)),  or ~0.13 degrees F, nearly identical to our bootstrapped margin of error.\n",
    "\n",
    "Therefore, like with our bootsrap method, our frequentist methods indicate abnormal temperatures to be below ~98.12 degrees F and above ~98.38 degrees F."
   ]
  },
  {
   "cell_type": "markdown",
   "metadata": {},
   "source": [
    "**(6) Is there a significant difference between males and females in normal temperature?**"
   ]
  },
  {
   "cell_type": "code",
   "execution_count": 298,
   "metadata": {},
   "outputs": [
    {
     "name": "stdout",
     "output_type": "stream",
     "text": [
      "female mean body temperature: 98.39384615384613\n",
      "male mean body temperature: 98.1046153846154\n"
     ]
    },
    {
     "data": {
      "image/png": "[encoded data removed]",
      "text/plain": [
       "<matplotlib.figure.Figure at 0x1119cce48>"
      ]
     },
     "metadata": {},
     "output_type": "display_data"
    }
   ],
   "source": [
    "# Separate out the female temperatures: female_temperature\n",
    "female_temperature = df['gender'] == 'F'\n",
    "female_temperature = df[female_temperature]\n",
    "female_temperature = female_temperature['temperature']\n",
    "print('female mean body temperature: ' + str(np.mean(female_temperature)))\n",
    "\n",
    "# Separate out the male temperatures: male_temperature\n",
    "male_temperature = df['gender'] == 'M'\n",
    "male_temperature = df[male_temperature]\n",
    "male_temperature = male_temperature['temperature']\n",
    "print('male mean body temperature: ' + str(np.mean(male_temperature)))\n",
    "\n",
    "# Perform some EDA on the two temperature fields by comparing their ECDFs\n",
    "x_female, y_female = ecdf(female_temperature)\n",
    "x_male, y_male = ecdf(male_temperature)\n",
    "\n",
    "plt.plot(x_female, y_female)\n",
    "plt.plot(x_male, y_male)\n",
    "plt.xlabel('body temperature (degrees F)')\n",
    "plt.ylabel('ECDF')\n",
    "plt.show()"
   ]
  },
  {
   "cell_type": "markdown",
   "metadata": {},
   "source": [
    "From a cursory look at the ECDFs it appears that there is a difference in the distribution of temperatures in females versus males, with males having a slightly lower mean body temperature than females. However, to verify this we should perform some additional statistical testing. First, we will perform some permutation sampling, a great way to simulate the hypothesis that two variables have identical probability distributions."
   ]
  },
  {
   "cell_type": "code",
   "execution_count": 299,
   "metadata": {},
   "outputs": [
    {
     "name": "stdout",
     "output_type": "stream",
     "text": [
      "p-value = 0.0105\n"
     ]
    }
   ],
   "source": [
    "# Define a permutation sample function: permutation_sample\n",
    "def permutation_sample(data1, data2):\n",
    "    \"\"\"Generate a permutation sample from two data sets.\"\"\"\n",
    "\n",
    "    # Concatenate the data sets: data\n",
    "    data = np.concatenate((data1, data2))\n",
    "\n",
    "    # Permute the concatenated array: permuted_data\n",
    "    permuted_data = np.random.permutation(data)\n",
    "\n",
    "    # Split the permuted array into two: perm_sample_1, perm_sample_2\n",
    "    perm_sample_1 = permuted_data[:len(data1)]\n",
    "    perm_sample_2 = permuted_data[len(data1):]\n",
    "\n",
    "    return perm_sample_1, perm_sample_2\n",
    "\n",
    "# Define a permuatation replicate function: draw_perm_reps \n",
    "def draw_perm_reps(data_1, data_2, func, size=1):\n",
    "    \"\"\"Generate multiple permutation replicates.\"\"\"\n",
    "\n",
    "    # Initialize array of replicates: perm_replicates\n",
    "    perm_replicates = np.empty(size)\n",
    "\n",
    "    for i in range(size):\n",
    "        # Generate permutation sample\n",
    "        perm_sample_1, perm_sample_2 = permutation_sample(data_1, data_2)\n",
    "\n",
    "        # Compute the test statistic\n",
    "        perm_replicates[i] = func(perm_sample_1, perm_sample_2)\n",
    "\n",
    "    return perm_replicates\n",
    "\n",
    "# Define a function that calculates the difference in means: diff_of_means\n",
    "def diff_of_means(data_1, data_2):\n",
    "    \"\"\"Difference in means of two arrays.\"\"\"\n",
    "\n",
    "    # The difference of means of data_1, data_2: diff\n",
    "    diff = np.mean(data_1) - np.mean(data_2)\n",
    "\n",
    "    return diff\n",
    "\n",
    "# Calculate the empirical difference in means between male and female temperatures: empirical_diff_means\n",
    "empirical_diff_means = diff_of_means(female_temperature, male_temperature)\n",
    "\n",
    "# Draw 10,000 permutation replicates: perm_replicates\n",
    "perm_replicates = draw_perm_reps(female_temperature, male_temperature, diff_of_means, size=10000)\n",
    "\n",
    "# Compute p-value: p\n",
    "p = np.sum(perm_replicates >= empirical_diff_means) / len(perm_replicates)\n",
    "\n",
    "# Print the result\n",
    "print('p-value =', p)"
   ]
  },
  {
   "cell_type": "markdown",
   "metadata": {},
   "source": [
    "It does, indeed, appear that there is a statistically significant difference in mean body temperatures between men and women. Just to make sure, let's now perform a two-sample bootstrap hypothesis test for difference of means test.\n",
    "\n",
    "We now want to test the hypothesis that male body temperatures and female body temperatures have the same mean temperature, but not necessarily the same distribution, which is impossible with our previous permutation test.\n",
    "\n",
    "To do the two-sample bootstrap test, we shift both arrays to have the same mean, since we are simulating the hypothesis that their means are, in fact, equal. We then draw bootstrap samples out of the shifted arrays and compute the difference in means. This constitutes a bootstrap replicate. The p-value is the fraction of replicates with a difference in means greater than or equal to what was observed."
   ]
  },
  {
   "cell_type": "code",
   "execution_count": 300,
   "metadata": {},
   "outputs": [
    {
     "name": "stdout",
     "output_type": "stream",
     "text": [
      "p-value = 0.0114\n"
     ]
    }
   ],
   "source": [
    "# Compute mean of all forces: mean_force\n",
    "mean_force = np.mean(temperature)\n",
    "\n",
    "# Generate shifted arrays\n",
    "female_temperature_shifted = female_temperature - np.mean(female_temperature) + mean_force\n",
    "male_temperature_shifted = male_temperature - np.mean(male_temperature) + mean_force\n",
    "\n",
    "# Compute 10,000 bootstrap replicates from shifted arrays\n",
    "bs_replicates_female = draw_bs_reps(female_temperature_shifted, np.mean, size=10000)\n",
    "bs_replicates_male = draw_bs_reps(male_temperature_shifted, np.mean, size=10000)\n",
    "\n",
    "# Get replicates of difference of means: bs_replicates\n",
    "bs_replicates = bs_replicates_female - bs_replicates_male\n",
    "\n",
    "# Compute and print p-value: p\n",
    "p = np.sum(bs_replicates >= empirical_diff_means) / len(bs_replicates)\n",
    "print('p-value =', p)"
   ]
  },
  {
   "cell_type": "markdown",
   "metadata": {},
   "source": [
    "Again, we get very smilar results. It definitely appears that there is a statistically significant difference between male and female mean body temperatures, with men having a slightly lower body temperature than women."
   ]
  }
 ],
 "metadata": {
  "kernelspec": {
   "display_name": "Python 3",
   "language": "python",
   "name": "python3"
  },
  "language_info": {
   "codemirror_mode": {
    "name": "ipython",
    "version": 3
   },
   "file_extension": ".py",
   "mimetype": "text/x-python",
   "name": "python",
   "nbconvert_exporter": "python",
   "pygments_lexer": "ipython3",
   "version": "3.6.4"
  }
 },
 "nbformat": 4,
 "nbformat_minor": 1
}
